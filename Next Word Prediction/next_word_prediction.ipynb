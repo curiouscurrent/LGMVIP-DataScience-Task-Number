{
  "nbformat": 4,
  "nbformat_minor": 0,
  "metadata": {
    "colab": {
      "provenance": []
    },
    "kernelspec": {
      "name": "python3",
      "display_name": "Python 3"
    },
    "language_info": {
      "name": "python"
    }
  },
  "cells": [
    {
      "cell_type": "code",
      "execution_count": 1,
      "metadata": {
        "id": "4Sw3g0Nb-RWj"
      },
      "outputs": [],
      "source": [
        "#importing packages\n",
        "import numpy as np\n",
        "np.random.seed(42)\n",
        "import tensorflow as tf\n",
        "tf.random.set_seed(42)"
      ]
    },
    {
      "cell_type": "code",
      "source": [
        "from tensorflow.keras.models import Sequential,load_model\n",
        "from tensorflow.keras.layers import Dense,Activation,LSTM,Dropout\n",
        "from tensorflow.keras.layers import TimeDistributed\n",
        "from tensorflow.keras.optimizers import RMSprop\n",
        "import matplotlib.pyplot as plt\n",
        "import pickle\n",
        "import heapq\n"
      ],
      "metadata": {
        "id": "Tte-CKcs-tay"
      },
      "execution_count": 3,
      "outputs": []
    },
    {
      "cell_type": "code",
      "source": [
        "#Loading the data\n",
        "path = '1661-0.txt'\n",
        "text = open(path,encoding=\"utf8\").read().lower()\n",
        "print('corpus length:', len(text))"
      ],
      "metadata": {
        "colab": {
          "base_uri": "https://localhost:8080/"
        },
        "id": "Brg7U8-8_oO7",
        "outputId": "856efd28-a929-41e7-d318-2c9b00b7a854"
      },
      "execution_count": 4,
      "outputs": [
        {
          "output_type": "stream",
          "name": "stdout",
          "text": [
            "corpus length: 581888\n"
          ]
        }
      ]
    },
    {
      "cell_type": "code",
      "source": [
        "# Preprocessing data\n",
        "character = sorted(list(set(text)))\n",
        "char_indices = dict((c,i) for i,c in enumerate(character))\n",
        "indices_char = dict((i, c) for i, c in enumerate(character))\n",
        "print(f'unique chars: {len(character)}')"
      ],
      "metadata": {
        "colab": {
          "base_uri": "https://localhost:8080/"
        },
        "id": "gTHNtdERAKX-",
        "outputId": "53164021-9a22-41bf-80c5-ee4948f97724"
      },
      "execution_count": 5,
      "outputs": [
        {
          "output_type": "stream",
          "name": "stdout",
          "text": [
            "unique chars: 73\n"
          ]
        }
      ]
    },
    {
      "cell_type": "code",
      "source": [
        "## chunk 40 characters with 3 sequences\n",
        "seq_len = 40\n",
        "step = 3\n",
        "sentences = []\n",
        "next_chars = []\n",
        "for i in range(0,len(text) - seq_len, step):\n",
        "  sentences.append(text[i: i+seq_len])\n",
        "  next_chars.append(text[i+seq_len])\n",
        "print(f'num training examples: {len(sentences)}')"
      ],
      "metadata": {
        "colab": {
          "base_uri": "https://localhost:8080/"
        },
        "id": "lajOZ9_LAvG9",
        "outputId": "2d8f0ca7-8da3-473a-8cc1-494f8d6403bf"
      },
      "execution_count": 7,
      "outputs": [
        {
          "output_type": "stream",
          "name": "stdout",
          "text": [
            "num training examples: 193950\n"
          ]
        }
      ]
    },
    {
      "cell_type": "code",
      "source": [
        "# generating our features and labels\n",
        "# one hot encoding\n",
        "X = np.zeros((len(sentences), seq_len, len(character)), dtype=np.bool)\n",
        "y = np.zeros((len(sentences), len(character)), dtype = np.bool)\n",
        "for i,sentence in enumerate(sentences):\n",
        "  for t,char in enumerate(sentence):\n",
        "    X[i,t,char_indices[char]] =1\n",
        "    y[i,char_indices[next_chars[i]]] =1\n",
        "\n",
        "sentences[124]\n",
        "next_chars[100]"
      ],
      "metadata": {
        "colab": {
          "base_uri": "https://localhost:8080/",
          "height": 160
        },
        "id": "vZuRZEAHBqL6",
        "outputId": "8447747c-c757-40db-f064-b27b38ae4251"
      },
      "execution_count": 8,
      "outputs": [
        {
          "output_type": "stream",
          "name": "stderr",
          "text": [
            "<ipython-input-8-7d7917732f60>:3: DeprecationWarning: `np.bool` is a deprecated alias for the builtin `bool`. To silence this warning, use `bool` by itself. Doing this will not modify any behavior and is safe. If you specifically wanted the numpy scalar type, use `np.bool_` here.\n",
            "Deprecated in NumPy 1.20; for more details and guidance: https://numpy.org/devdocs/release/1.20.0-notes.html#deprecations\n",
            "  X = np.zeros((len(sentences), seq_len, len(character)), dtype=np.bool)\n",
            "<ipython-input-8-7d7917732f60>:4: DeprecationWarning: `np.bool` is a deprecated alias for the builtin `bool`. To silence this warning, use `bool` by itself. Doing this will not modify any behavior and is safe. If you specifically wanted the numpy scalar type, use `np.bool_` here.\n",
            "Deprecated in NumPy 1.20; for more details and guidance: https://numpy.org/devdocs/release/1.20.0-notes.html#deprecations\n",
            "  y = np.zeros((len(sentences), len(character)), dtype = np.bool)\n"
          ]
        },
        {
          "output_type": "execute_result",
          "data": {
            "text/plain": [
              "'e'"
            ],
            "application/vnd.google.colaboratory.intrinsic+json": {
              "type": "string"
            }
          },
          "metadata": {},
          "execution_count": 8
        }
      ]
    },
    {
      "cell_type": "code",
      "source": [
        "## one hot encoded data\n",
        "X[0][0]\n"
      ],
      "metadata": {
        "colab": {
          "base_uri": "https://localhost:8080/"
        },
        "id": "7JZK_eSrC9wJ",
        "outputId": "09219da8-f3b5-4338-a60b-ab1c2ff830b0"
      },
      "execution_count": 9,
      "outputs": [
        {
          "output_type": "execute_result",
          "data": {
            "text/plain": [
              "array([False, False, False, False, False, False, False, False, False,\n",
              "       False, False, False, False, False, False, False, False, False,\n",
              "       False, False, False, False, False, False, False, False, False,\n",
              "       False, False, False, False, False, False, False, False, False,\n",
              "       False, False, False, False, False, False, False, False, False,\n",
              "       False, False, False, False, False, False, False, False, False,\n",
              "       False, False, False, False, False, False, False, False, False,\n",
              "       False, False, False, False, False, False, False, False, False,\n",
              "        True])"
            ]
          },
          "metadata": {},
          "execution_count": 9
        }
      ]
    },
    {
      "cell_type": "code",
      "source": [
        "## one hot encoded data\n",
        "y[0]"
      ],
      "metadata": {
        "colab": {
          "base_uri": "https://localhost:8080/"
        },
        "id": "kJbPeIKkDERo",
        "outputId": "f485e2b9-d59c-4ce7-fb3e-47db3c8baa9a"
      },
      "execution_count": 10,
      "outputs": [
        {
          "output_type": "execute_result",
          "data": {
            "text/plain": [
              "array([False, False, False, False, False, False, False, False, False,\n",
              "       False, False, False, False, False, False, False, False, False,\n",
              "       False, False, False, False, False, False, False, False, False,\n",
              "       False, False, False, False, False, False, False, False, False,\n",
              "       False, False, False, False, False, False, False, False, False,\n",
              "       False, False, False, False, False, False,  True, False, False,\n",
              "       False, False, False, False, False, False, False, False, False,\n",
              "       False, False, False, False, False, False, False, False, False,\n",
              "       False])"
            ]
          },
          "metadata": {},
          "execution_count": 10
        }
      ]
    },
    {
      "cell_type": "code",
      "source": [
        "#creating the model\n",
        "model = Sequential()\n",
        "model.add(LSTM(128,input_shape=(seq_len, len(character))))\n",
        "model.add(Dense(len(character)))\n",
        "model.add(Activation('softmax'))"
      ],
      "metadata": {
        "id": "uRtyr1ZEDK_R"
      },
      "execution_count": 11,
      "outputs": []
    },
    {
      "cell_type": "code",
      "source": [
        "model.summary()\n",
        "from tensorflow.keras.utils import plot_model\n",
        "plot_model(model, show_shapes=True, to_file='model.png')"
      ],
      "metadata": {
        "colab": {
          "base_uri": "https://localhost:8080/",
          "height": 682
        },
        "id": "nJJyOidjDfPk",
        "outputId": "5c0e8653-9a93-43dd-d8d4-78c63df24c09"
      },
      "execution_count": 12,
      "outputs": [
        {
          "output_type": "stream",
          "name": "stdout",
          "text": [
            "Model: \"sequential\"\n",
            "_________________________________________________________________\n",
            " Layer (type)                Output Shape              Param #   \n",
            "=================================================================\n",
            " lstm (LSTM)                 (None, 128)               103424    \n",
            "                                                                 \n",
            " dense (Dense)               (None, 73)                9417      \n",
            "                                                                 \n",
            " activation (Activation)     (None, 73)                0         \n",
            "                                                                 \n",
            "=================================================================\n",
            "Total params: 112841 (440.79 KB)\n",
            "Trainable params: 112841 (440.79 KB)\n",
            "Non-trainable params: 0 (0.00 Byte)\n",
            "_________________________________________________________________\n"
          ]
        },
        {
          "output_type": "execute_result",
          "data": {
            "image/png": "[encoded data removed]",
            "text/plain": [
              "<IPython.core.display.Image object>"
            ]
          },
          "metadata": {},
          "execution_count": 12
        }
      ]
    },
    {
      "cell_type": "code",
      "source": [
        "# Training the model\n",
        "optimizer = RMSprop(learning_rate=0.01)\n",
        "model.compile(loss='categorical_crossentropy', optimizer=optimizer, metrics=['accuracy'])\n",
        "history = model.fit(X, y,\n",
        "                    validation_split=0.01,\n",
        "                    batch_size=128,\n",
        "                    epochs=30,\n",
        "                    shuffle=True).history"
      ],
      "metadata": {
        "colab": {
          "base_uri": "https://localhost:8080/"
        },
        "id": "WMJgcbX7DrNn",
        "outputId": "0b50df84-9bba-473e-abee-df42e5e3fb1b"
      },
      "execution_count": 14,
      "outputs": [
        {
          "output_type": "stream",
          "name": "stdout",
          "text": [
            "Epoch 1/30\n",
            "1501/1501 [==============================] - 156s 103ms/step - loss: 1.8932 - accuracy: 0.4386 - val_loss: 2.1836 - val_accuracy: 0.3933\n",
            "Epoch 2/30\n",
            "1501/1501 [==============================] - 154s 102ms/step - loss: 1.6239 - accuracy: 0.5126 - val_loss: 2.0524 - val_accuracy: 0.4304\n",
            "Epoch 3/30\n",
            "1501/1501 [==============================] - 153s 102ms/step - loss: 1.5253 - accuracy: 0.5394 - val_loss: 1.9709 - val_accuracy: 0.4505\n",
            "Epoch 4/30\n",
            "1501/1501 [==============================] - 154s 103ms/step - loss: 1.4710 - accuracy: 0.5549 - val_loss: 1.9154 - val_accuracy: 0.4572\n",
            "Epoch 5/30\n",
            "1501/1501 [==============================] - 153s 102ms/step - loss: 1.4328 - accuracy: 0.5639 - val_loss: 1.8903 - val_accuracy: 0.4840\n",
            "Epoch 6/30\n",
            "1501/1501 [==============================] - 154s 102ms/step - loss: 1.4059 - accuracy: 0.5707 - val_loss: 1.8835 - val_accuracy: 0.5010\n",
            "Epoch 7/30\n",
            "1501/1501 [==============================] - 152s 101ms/step - loss: 1.3846 - accuracy: 0.5761 - val_loss: 1.9132 - val_accuracy: 0.4691\n",
            "Epoch 8/30\n",
            "1501/1501 [==============================] - 153s 102ms/step - loss: 1.3698 - accuracy: 0.5803 - val_loss: 1.8895 - val_accuracy: 0.4773\n",
            "Epoch 9/30\n",
            "1501/1501 [==============================] - 153s 102ms/step - loss: 1.3567 - accuracy: 0.5833 - val_loss: 1.8702 - val_accuracy: 0.4943\n",
            "Epoch 10/30\n",
            "1501/1501 [==============================] - 154s 103ms/step - loss: 1.3453 - accuracy: 0.5857 - val_loss: 1.8873 - val_accuracy: 0.4928\n",
            "Epoch 11/30\n",
            "1501/1501 [==============================] - 155s 103ms/step - loss: 1.3344 - accuracy: 0.5891 - val_loss: 1.9167 - val_accuracy: 0.4789\n",
            "Epoch 12/30\n",
            "1501/1501 [==============================] - 154s 102ms/step - loss: 1.3245 - accuracy: 0.5912 - val_loss: 1.8764 - val_accuracy: 0.4871\n",
            "Epoch 13/30\n",
            "1501/1501 [==============================] - 154s 103ms/step - loss: 1.3179 - accuracy: 0.5934 - val_loss: 1.9333 - val_accuracy: 0.4742\n",
            "Epoch 14/30\n",
            "1501/1501 [==============================] - 153s 102ms/step - loss: 1.3122 - accuracy: 0.5955 - val_loss: 1.9309 - val_accuracy: 0.4840\n",
            "Epoch 15/30\n",
            "1501/1501 [==============================] - 154s 103ms/step - loss: 1.3041 - accuracy: 0.5975 - val_loss: 1.9155 - val_accuracy: 0.4948\n",
            "Epoch 16/30\n",
            "1501/1501 [==============================] - 154s 102ms/step - loss: 1.2974 - accuracy: 0.5996 - val_loss: 1.9074 - val_accuracy: 0.4928\n",
            "Epoch 17/30\n",
            "1501/1501 [==============================] - 155s 103ms/step - loss: 1.2935 - accuracy: 0.5995 - val_loss: 1.9137 - val_accuracy: 0.4881\n",
            "Epoch 18/30\n",
            "1501/1501 [==============================] - 155s 103ms/step - loss: 1.2892 - accuracy: 0.6009 - val_loss: 1.9398 - val_accuracy: 0.4799\n",
            "Epoch 19/30\n",
            "1501/1501 [==============================] - 153s 102ms/step - loss: 1.2833 - accuracy: 0.6032 - val_loss: 1.9386 - val_accuracy: 0.4845\n",
            "Epoch 20/30\n",
            "1501/1501 [==============================] - 154s 103ms/step - loss: 1.2804 - accuracy: 0.6039 - val_loss: 1.9455 - val_accuracy: 0.4979\n",
            "Epoch 21/30\n",
            "1501/1501 [==============================] - 153s 102ms/step - loss: 1.2747 - accuracy: 0.6050 - val_loss: 1.9467 - val_accuracy: 0.4851\n",
            "Epoch 22/30\n",
            "1501/1501 [==============================] - 154s 102ms/step - loss: 1.2709 - accuracy: 0.6057 - val_loss: 1.9312 - val_accuracy: 0.4943\n",
            "Epoch 23/30\n",
            "1501/1501 [==============================] - 153s 102ms/step - loss: 1.2678 - accuracy: 0.6070 - val_loss: 1.9333 - val_accuracy: 0.4990\n",
            "Epoch 24/30\n",
            "1501/1501 [==============================] - 156s 104ms/step - loss: 1.2663 - accuracy: 0.6083 - val_loss: 1.9750 - val_accuracy: 0.4990\n",
            "Epoch 25/30\n",
            "1501/1501 [==============================] - 153s 102ms/step - loss: 1.2646 - accuracy: 0.6074 - val_loss: 1.9342 - val_accuracy: 0.5015\n",
            "Epoch 26/30\n",
            "1501/1501 [==============================] - 154s 103ms/step - loss: 1.2596 - accuracy: 0.6101 - val_loss: 1.9531 - val_accuracy: 0.4933\n",
            "Epoch 27/30\n",
            "1501/1501 [==============================] - 153s 102ms/step - loss: 1.2577 - accuracy: 0.6097 - val_loss: 2.0067 - val_accuracy: 0.4892\n",
            "Epoch 28/30\n",
            "1501/1501 [==============================] - 154s 103ms/step - loss: 1.2529 - accuracy: 0.6118 - val_loss: 1.9754 - val_accuracy: 0.4897\n",
            "Epoch 29/30\n",
            "1501/1501 [==============================] - 153s 102ms/step - loss: 1.2514 - accuracy: 0.6109 - val_loss: 1.9716 - val_accuracy: 0.5119\n",
            "Epoch 30/30\n",
            "1501/1501 [==============================] - 154s 103ms/step - loss: 1.2481 - accuracy: 0.6123 - val_loss: 1.9866 - val_accuracy: 0.4892\n"
          ]
        }
      ]
    },
    {
      "cell_type": "code",
      "source": [
        "# saving our model\n",
        "model.save('wordpredict.h5')\n",
        "pickle.dump(history, open(\"history.p\", \"wb\"))"
      ],
      "metadata": {
        "colab": {
          "base_uri": "https://localhost:8080/"
        },
        "id": "CjcyKUGEcMi3",
        "outputId": "083abc8a-dc63-43f2-bdba-5e707dc45c06"
      },
      "execution_count": 15,
      "outputs": [
        {
          "output_type": "stream",
          "name": "stderr",
          "text": [
            "/usr/local/lib/python3.10/dist-packages/keras/src/engine/training.py:3079: UserWarning: You are saving your model as an HDF5 file via `model.save()`. This file format is considered legacy. We recommend using instead the native Keras format, e.g. `model.save('my_model.keras')`.\n",
            "  saving_api.save_model(\n"
          ]
        }
      ]
    },
    {
      "cell_type": "code",
      "source": [
        "## loading the model\n",
        "model = load_model('wordpredict.h5')\n",
        "history = pickle.load(open(\"history.p\", \"rb\"))"
      ],
      "metadata": {
        "id": "QNfkoZqPccvu"
      },
      "execution_count": 16,
      "outputs": []
    },
    {
      "cell_type": "code",
      "source": [
        "#Model Evaluation\n",
        "loss_and_acc=model.evaluate(X,y)\n",
        "print(\"Test Loss\", loss_and_acc[0])\n",
        "print(\"Test Accuracy\", loss_and_acc[1])"
      ],
      "metadata": {
        "colab": {
          "base_uri": "https://localhost:8080/"
        },
        "id": "8_LQF9Jdc8hN",
        "outputId": "4c94da54-0cb7-43ef-8eeb-d49388e575cf"
      },
      "execution_count": 17,
      "outputs": [
        {
          "output_type": "stream",
          "name": "stdout",
          "text": [
            "6061/6061 [==============================] - 118s 19ms/step - loss: 1.2131 - accuracy: 0.6218\n",
            "Test Loss 1.2130770683288574\n",
            "Test Accuracy 0.6217633485794067\n"
          ]
        }
      ]
    },
    {
      "cell_type": "code",
      "source": [
        "acc = history['accuracy']\n",
        "val_acc = history['val_accuracy']\n",
        "loss = history['loss']\n",
        "val_loss = history['val_loss']\n",
        "epochs = range(len(acc))\n",
        "\n",
        "\n",
        "\n",
        "fig, ax = plt.subplots(nrows=1, ncols=2, figsize=(20, 6))\n",
        "ax[0].plot(epochs, acc, 'r', label='Training accuracy')\n",
        "ax[0].plot(epochs, val_acc, 'b', label='Validation accuracy')\n",
        "ax[0].legend(loc=0)\n",
        "ax[1].plot(epochs, loss, 'r', label='Training loss')\n",
        "ax[1].plot(epochs, val_loss, 'b', label='Validation loss')\n",
        "ax[1].legend(loc=0)\n",
        "\n",
        "plt.suptitle('Training and validation')\n",
        "plt.show()\n"
      ],
      "metadata": {
        "colab": {
          "base_uri": "https://localhost:8080/",
          "height": 238
        },
        "id": "ssWZ_f8Bd8ny",
        "outputId": "4fd8b8ae-9b23-4265-8da6-06ccd36e4d1e"
      },
      "execution_count": 19,
      "outputs": [
        {
          "output_type": "display_data",
          "data": {
            "text/plain": [
              "<Figure size 2000x600 with 2 Axes>"
            ],
            "image/png": "[encoded data removed]"
          },
          "metadata": {}
        }
      ]
    },
    {
      "cell_type": "code",
      "source": [
        "def prepare_input(text):\n",
        "    x = np.zeros((1, seq_len, len(character)))\n",
        "    for t, char in enumerate(text):\n",
        "        x[0, t, char_indices[char]] = 1.\n",
        "\n",
        "    return x\n",
        "\n",
        "prepare_input(\"This is an example of input of our model\".lower())\n",
        ""
      ],
      "metadata": {
        "colab": {
          "base_uri": "https://localhost:8080/"
        },
        "id": "Si0yxlhGeLW4",
        "outputId": "22c56d50-3221-4814-d4f3-0d603fd0a169"
      },
      "execution_count": 20,
      "outputs": [
        {
          "output_type": "execute_result",
          "data": {
            "text/plain": [
              "array([[[0., 0., 0., ..., 0., 0., 0.],\n",
              "        [0., 0., 0., ..., 0., 0., 0.],\n",
              "        [0., 0., 0., ..., 0., 0., 0.],\n",
              "        ...,\n",
              "        [0., 0., 0., ..., 0., 0., 0.],\n",
              "        [0., 0., 0., ..., 0., 0., 0.],\n",
              "        [0., 0., 0., ..., 0., 0., 0.]]])"
            ]
          },
          "metadata": {},
          "execution_count": 20
        }
      ]
    },
    {
      "cell_type": "code",
      "source": [
        "#functions to get next probable characters\n",
        "def sample(preds, top_n=3):\n",
        "    preds = np.asarray(preds).astype('float64')\n",
        "    preds = np.log(preds)\n",
        "    exp_preds = np.exp(preds)\n",
        "    preds = exp_preds / np.sum(exp_preds)\n",
        "\n",
        "    return heapq.nlargest(top_n, range(len(preds)), preds.take)\n"
      ],
      "metadata": {
        "id": "7Dpgp0RoetPU"
      },
      "execution_count": 21,
      "outputs": []
    },
    {
      "cell_type": "code",
      "source": [
        "def predict_completion(text):\n",
        "    original_text = text\n",
        "    generated = text\n",
        "    completion = ''\n",
        "    while True:\n",
        "        x = prepare_input(text)\n",
        "        preds = model.predict(x, verbose=0)[0]\n",
        "        next_index = sample(preds, top_n=1)[0]\n",
        "        next_char = indices_char[next_index]\n",
        "        text = text[1:] + next_char\n",
        "        completion += next_char\n",
        "\n",
        "        if len(original_text + completion) + 2 > len(original_text) and next_char == ' ':\n",
        "            return completion"
      ],
      "metadata": {
        "id": "R9x_De4pexE4"
      },
      "execution_count": 22,
      "outputs": []
    },
    {
      "cell_type": "code",
      "source": [
        "def predict_completions(text, n=3):\n",
        "    x = prepare_input(text)\n",
        "    preds = model.predict(x, verbose=0)[0]\n",
        "    next_indices = sample(preds, n)\n",
        "    return [indices_char[idx] + predict_completion(text[1:] + indices_char[idx]) for idx in next_indices]"
      ],
      "metadata": {
        "id": "3uRElOGxe-5c"
      },
      "execution_count": 23,
      "outputs": []
    },
    {
      "cell_type": "code",
      "source": [
        "## PREDICTIONS\n",
        "quotes = [\n",
        "    \"Deep learning is subset of machine learning,which is essentially a neural network with three or more layers.\",\n",
        "    \"Machine learning  is the study of computer algorithms that improve automatically through experience and by the use of data.\",\n",
        "    \"It is not a lack of love, but a lack of friendship that makes unhappy marriages.\",\n",
        "    \"Recurrent neural network (RNN) is a type of artificial neural network which uses sequential data or time series data.\",\n",
        "    \"Thanks for spending your precious time to view my work.\"\n",
        "\n",
        "]"
      ],
      "metadata": {
        "id": "Ngy8YoswfJrh"
      },
      "execution_count": 24,
      "outputs": []
    },
    {
      "cell_type": "code",
      "source": [
        "for q in quotes:\n",
        "    seq = q[:40].lower()\n",
        "    print(seq)\n",
        "    print(predict_completions(seq, 5))\n",
        "    print()"
      ],
      "metadata": {
        "colab": {
          "base_uri": "https://localhost:8080/"
        },
        "id": "QgisrzwGfPtl",
        "outputId": "428bd7ff-dc0d-4311-cd6a-32f3fca64a2b"
      },
      "execution_count": 25,
      "outputs": [
        {
          "output_type": "stream",
          "name": "stdout",
          "text": [
            "deep learning is subset of machine learn\n",
            "['ed ', ' to ', 'ing ', 't, ', 's ']\n",
            "\n",
            "machine learning  is the study of comput\n",
            "['e ', 'ter ', 'ion ', ' of ', 's ']\n",
            "\n",
            "it is not a lack of love, but a lack of \n",
            "['the ', 'his ', 'my ', 'a ', 'which ']\n",
            "\n",
            "recurrent neural network (rnn) is a type\n",
            "['wrice ', 'rving ', 'ar ', 'et ', 'mite ']\n",
            "\n",
            "thanks for spending your precious time t\n",
            "['hat ', 'o ', 'err ', 'alked ', 'ime ']\n",
            "\n"
          ]
        }
      ]
    }
  ]
}